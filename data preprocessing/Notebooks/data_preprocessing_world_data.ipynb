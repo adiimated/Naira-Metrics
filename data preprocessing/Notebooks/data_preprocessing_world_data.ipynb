{
 "cells": [
  {
   "cell_type": "markdown",
   "id": "9e1dd22f",
   "metadata": {},
   "source": [
    "### Original dataset was filtered using the indicator sheet in Excel\n",
    "\n",
    "### This is the part 2 of preprocessing --> Working with Transposed & Filtered Data"
   ]
  },
  {
   "cell_type": "code",
   "execution_count": 49,
   "id": "3ba4af2b",
   "metadata": {},
   "outputs": [],
   "source": [
    "import pandas as pd\n",
    "\n",
    "file_path = 'world_data_transposed.csv'\n",
    "data = pd.read_csv(file_path)"
   ]
  },
  {
   "cell_type": "code",
   "execution_count": 50,
   "id": "31b796e4",
   "metadata": {},
   "outputs": [],
   "source": [
    "# Convert the 'Year' column to datetime format and set it as the index\n",
    "data['Year'] = pd.to_datetime(data['Year'], format='%Y')\n",
    "data.set_index('Year', inplace=True)"
   ]
  },
  {
   "cell_type": "code",
   "execution_count": 51,
   "id": "0f20f0ef",
   "metadata": {},
   "outputs": [],
   "source": [
    "# Identify columns which have their first value starting at 1985\n",
    "mask_starting_1985 = data.apply(lambda col: col[:'1984'].isna().all() and col['1985':].notna().any(), axis=0)\n",
    "columns_starting_1985 = data.columns[mask_starting_1985]"
   ]
  },
  {
   "cell_type": "code",
   "execution_count": 52,
   "id": "e7b5c7da",
   "metadata": {},
   "outputs": [],
   "source": [
    "# Columns that do not start at 1985\n",
    "columns_not_starting_1985 = data.columns.difference(columns_starting_1985)\n",
    "\n",
    "# Create datasets based on these columns\n",
    "data_starting_1985 = data[columns_starting_1985]\n",
    "data_not_starting_1985 = data[columns_not_starting_1985]"
   ]
  },
  {
   "cell_type": "code",
   "execution_count": 53,
   "id": "265979ef",
   "metadata": {},
   "outputs": [],
   "source": [
    "# Save these datasets to CSV files\n",
    "data_starting_1985_path = 'world_data_1985_onwards.csv'\n",
    "data_not_starting_1985_path = 'world_data_1960_onwards.csv'"
   ]
  },
  {
   "cell_type": "code",
   "execution_count": 54,
   "id": "2cbfd38f",
   "metadata": {},
   "outputs": [],
   "source": [
    "data_starting_1985.to_csv(data_starting_1985_path)\n",
    "data_not_starting_1985.to_csv(data_not_starting_1985_path)"
   ]
  },
  {
   "cell_type": "code",
   "execution_count": 55,
   "id": "2e7b09c3",
   "metadata": {},
   "outputs": [],
   "source": [
    "import pandas as pd\n",
    "\n",
    "# Load the dataset\n",
    "data = pd.read_csv('world_data_1985_onwards.csv')\n",
    "\n",
    "# Convert the 'Year' column to datetime format\n",
    "data['Year'] = pd.to_datetime(data['Year'])\n",
    "data['Year'] = data['Year'].dt.year\n",
    "\n",
    "# Filter out rows with missing values before 1985\n",
    "data_cleaned = data[~((data['Year'] < 1985) & (data.isnull().any(axis=1)))]\n",
    "data_cleaned.to_csv('world_data_1985_onwards_yearly.csv', index=False)"
   ]
  },
  {
   "cell_type": "code",
   "execution_count": 56,
   "id": "f09b38bd",
   "metadata": {},
   "outputs": [
    {
     "data": {
      "text/plain": [
       "Year                                                          0\n",
       "Manufacturing, value added (% of GDP)                         0\n",
       "Agriculture, forestry, and fishing, value added (% of GDP)    0\n",
       "Industry (including construction), value added (% of GDP)     0\n",
       "Lending interest rate (%)                                     0\n",
       "dtype: int64"
      ]
     },
     "execution_count": 56,
     "metadata": {},
     "output_type": "execute_result"
    }
   ],
   "source": [
    "# Check for any remaining missing values in the cleaned dataset\n",
    "missing_values = data_cleaned.isnull().sum()\n",
    "\n",
    "missing_values"
   ]
  },
  {
   "cell_type": "code",
   "execution_count": 57,
   "id": "4d0b9630",
   "metadata": {},
   "outputs": [
    {
     "data": {
      "text/html": [
       "<div>\n",
       "<style scoped>\n",
       "    .dataframe tbody tr th:only-of-type {\n",
       "        vertical-align: middle;\n",
       "    }\n",
       "\n",
       "    .dataframe tbody tr th {\n",
       "        vertical-align: top;\n",
       "    }\n",
       "\n",
       "    .dataframe thead th {\n",
       "        text-align: right;\n",
       "    }\n",
       "</style>\n",
       "<table border=\"1\" class=\"dataframe\">\n",
       "  <thead>\n",
       "    <tr style=\"text-align: right;\">\n",
       "      <th></th>\n",
       "      <th>Year</th>\n",
       "      <th>Consumer price index (2010 = 100)</th>\n",
       "      <th>Crop production index (2014-2016 = 100)</th>\n",
       "      <th>GDP (constant LCU)</th>\n",
       "      <th>GDP (current LCU)</th>\n",
       "      <th>GDP growth (annual %)</th>\n",
       "      <th>GDP per capita (current US$)</th>\n",
       "      <th>GDP per capita growth (annual %)</th>\n",
       "      <th>Inflation, GDP deflator (annual %)</th>\n",
       "      <th>Inflation, consumer prices (annual %)</th>\n",
       "      <th>Livestock production index (2014-2016 = 100)</th>\n",
       "      <th>Official exchange rate (LCU per US$, period average)</th>\n",
       "      <th>Total reserves (includes gold, current US$)</th>\n",
       "    </tr>\n",
       "  </thead>\n",
       "  <tbody>\n",
       "    <tr>\n",
       "      <th>0</th>\n",
       "      <td>1960-01-01</td>\n",
       "      <td>0.065886</td>\n",
       "      <td>NaN</td>\n",
       "      <td>9277979393400</td>\n",
       "      <td>2997268700</td>\n",
       "      <td>NaN</td>\n",
       "      <td>93.397048</td>\n",
       "      <td>NaN</td>\n",
       "      <td>NaN</td>\n",
       "      <td>5.444327</td>\n",
       "      <td>NaN</td>\n",
       "      <td>0.714286</td>\n",
       "      <td>343000000.0</td>\n",
       "    </tr>\n",
       "    <tr>\n",
       "      <th>1</th>\n",
       "      <td>1961-01-01</td>\n",
       "      <td>0.070023</td>\n",
       "      <td>19.31</td>\n",
       "      <td>9295774139400</td>\n",
       "      <td>3190921200</td>\n",
       "      <td>0.191795</td>\n",
       "      <td>97.420968</td>\n",
       "      <td>-1.834010</td>\n",
       "      <td>6.257169</td>\n",
       "      <td>6.279147</td>\n",
       "      <td>17.19</td>\n",
       "      <td>0.714286</td>\n",
       "      <td>307070650.0</td>\n",
       "    </tr>\n",
       "    <tr>\n",
       "      <th>2</th>\n",
       "      <td>1962-01-01</td>\n",
       "      <td>0.073710</td>\n",
       "      <td>20.41</td>\n",
       "      <td>9677179063400</td>\n",
       "      <td>3506715100</td>\n",
       "      <td>4.102993</td>\n",
       "      <td>104.852749</td>\n",
       "      <td>1.954451</td>\n",
       "      <td>5.565301</td>\n",
       "      <td>5.265632</td>\n",
       "      <td>15.71</td>\n",
       "      <td>0.714286</td>\n",
       "      <td>289024970.0</td>\n",
       "    </tr>\n",
       "    <tr>\n",
       "      <th>3</th>\n",
       "      <td>1963-01-01</td>\n",
       "      <td>0.071724</td>\n",
       "      <td>21.35</td>\n",
       "      <td>10507347377000</td>\n",
       "      <td>3689708800</td>\n",
       "      <td>8.578619</td>\n",
       "      <td>108.015742</td>\n",
       "      <td>6.306528</td>\n",
       "      <td>-3.094752</td>\n",
       "      <td>-2.694655</td>\n",
       "      <td>15.95</td>\n",
       "      <td>0.714286</td>\n",
       "      <td>210030680.0</td>\n",
       "    </tr>\n",
       "    <tr>\n",
       "      <th>4</th>\n",
       "      <td>1964-01-01</td>\n",
       "      <td>0.072338</td>\n",
       "      <td>21.86</td>\n",
       "      <td>11027512418000</td>\n",
       "      <td>3966381100</td>\n",
       "      <td>4.950489</td>\n",
       "      <td>113.658375</td>\n",
       "      <td>2.729816</td>\n",
       "      <td>2.427809</td>\n",
       "      <td>0.856793</td>\n",
       "      <td>17.60</td>\n",
       "      <td>0.714286</td>\n",
       "      <td>228053520.0</td>\n",
       "    </tr>\n",
       "  </tbody>\n",
       "</table>\n",
       "</div>"
      ],
      "text/plain": [
       "         Year  Consumer price index (2010 = 100)  \\\n",
       "0  1960-01-01                           0.065886   \n",
       "1  1961-01-01                           0.070023   \n",
       "2  1962-01-01                           0.073710   \n",
       "3  1963-01-01                           0.071724   \n",
       "4  1964-01-01                           0.072338   \n",
       "\n",
       "   Crop production index (2014-2016 = 100)  GDP (constant LCU)  \\\n",
       "0                                      NaN       9277979393400   \n",
       "1                                    19.31       9295774139400   \n",
       "2                                    20.41       9677179063400   \n",
       "3                                    21.35      10507347377000   \n",
       "4                                    21.86      11027512418000   \n",
       "\n",
       "   GDP (current LCU)  GDP growth (annual %)  GDP per capita (current US$)  \\\n",
       "0         2997268700                    NaN                     93.397048   \n",
       "1         3190921200               0.191795                     97.420968   \n",
       "2         3506715100               4.102993                    104.852749   \n",
       "3         3689708800               8.578619                    108.015742   \n",
       "4         3966381100               4.950489                    113.658375   \n",
       "\n",
       "   GDP per capita growth (annual %)  Inflation, GDP deflator (annual %)  \\\n",
       "0                               NaN                                 NaN   \n",
       "1                         -1.834010                            6.257169   \n",
       "2                          1.954451                            5.565301   \n",
       "3                          6.306528                           -3.094752   \n",
       "4                          2.729816                            2.427809   \n",
       "\n",
       "   Inflation, consumer prices (annual %)  \\\n",
       "0                               5.444327   \n",
       "1                               6.279147   \n",
       "2                               5.265632   \n",
       "3                              -2.694655   \n",
       "4                               0.856793   \n",
       "\n",
       "   Livestock production index (2014-2016 = 100)  \\\n",
       "0                                           NaN   \n",
       "1                                         17.19   \n",
       "2                                         15.71   \n",
       "3                                         15.95   \n",
       "4                                         17.60   \n",
       "\n",
       "   Official exchange rate (LCU per US$, period average)  \\\n",
       "0                                           0.714286      \n",
       "1                                           0.714286      \n",
       "2                                           0.714286      \n",
       "3                                           0.714286      \n",
       "4                                           0.714286      \n",
       "\n",
       "   Total reserves (includes gold, current US$)  \n",
       "0                                  343000000.0  \n",
       "1                                  307070650.0  \n",
       "2                                  289024970.0  \n",
       "3                                  210030680.0  \n",
       "4                                  228053520.0  "
      ]
     },
     "execution_count": 57,
     "metadata": {},
     "output_type": "execute_result"
    }
   ],
   "source": [
    "file_path = 'world_data_1960_onwards.csv'\n",
    "data = pd.read_csv(file_path)\n",
    "\n",
    "data.head()"
   ]
  },
  {
   "cell_type": "code",
   "execution_count": 58,
   "id": "6ec050b6",
   "metadata": {},
   "outputs": [],
   "source": [
    "data['Year'] = pd.to_datetime(data['Year'])\n",
    "data['Year'] = pd.to_datetime(data['Year'])\n",
    "data['Year'] = data['Year'].dt.year"
   ]
  },
  {
   "cell_type": "code",
   "execution_count": 59,
   "id": "354d28bc",
   "metadata": {},
   "outputs": [
    {
     "data": {
      "text/plain": [
       "Year                                                    0\n",
       "Consumer price index (2010 = 100)                       0\n",
       "Crop production index (2014-2016 = 100)                 1\n",
       "GDP (constant LCU)                                      0\n",
       "GDP (current LCU)                                       0\n",
       "GDP growth (annual %)                                   1\n",
       "GDP per capita (current US$)                            0\n",
       "GDP per capita growth (annual %)                        1\n",
       "Inflation, GDP deflator (annual %)                      1\n",
       "Inflation, consumer prices (annual %)                   0\n",
       "Livestock production index (2014-2016 = 100)            1\n",
       "Official exchange rate (LCU per US$, period average)    0\n",
       "Total reserves (includes gold, current US$)             0\n",
       "dtype: int64"
      ]
     },
     "execution_count": 59,
     "metadata": {},
     "output_type": "execute_result"
    }
   ],
   "source": [
    "# Check for missing values in the dataset\n",
    "missing_values = data.isnull().sum()\n",
    "\n",
    "missing_values"
   ]
  },
  {
   "cell_type": "code",
   "execution_count": 60,
   "id": "5ebabdec",
   "metadata": {},
   "outputs": [
    {
     "name": "stderr",
     "output_type": "stream",
     "text": [
      "/var/folders/cv/4vzh9lk915gfbld2ytsk_w240000gn/T/ipykernel_5725/1941867186.py:2: FutureWarning: DataFrame.fillna with 'method' is deprecated and will raise in a future version. Use obj.ffill() or obj.bfill() instead.\n",
      "  data.fillna(method='bfill', inplace=True)\n"
     ]
    },
    {
     "data": {
      "text/plain": [
       "Year                                                    0\n",
       "Consumer price index (2010 = 100)                       0\n",
       "Crop production index (2014-2016 = 100)                 0\n",
       "GDP (constant LCU)                                      0\n",
       "GDP (current LCU)                                       0\n",
       "GDP growth (annual %)                                   0\n",
       "GDP per capita (current US$)                            0\n",
       "GDP per capita growth (annual %)                        0\n",
       "Inflation, GDP deflator (annual %)                      0\n",
       "Inflation, consumer prices (annual %)                   0\n",
       "Livestock production index (2014-2016 = 100)            0\n",
       "Official exchange rate (LCU per US$, period average)    0\n",
       "Total reserves (includes gold, current US$)             0\n",
       "dtype: int64"
      ]
     },
     "execution_count": 60,
     "metadata": {},
     "output_type": "execute_result"
    }
   ],
   "source": [
    "# Use backward fill method to handle missing values\n",
    "data.fillna(method='bfill', inplace=True)\n",
    "\n",
    "missing_values_after_bfill = data.isnull().sum()\n",
    "\n",
    "missing_values_after_bfill"
   ]
  },
  {
   "cell_type": "code",
   "execution_count": 61,
   "id": "6c36b122",
   "metadata": {},
   "outputs": [],
   "source": [
    "output_file_path = 'world_data_1960_onwards_yearly.csv'\n",
    "data.to_csv(output_file_path, index=False)"
   ]
  },
  {
   "cell_type": "code",
   "execution_count": null,
   "id": "3a137e3d",
   "metadata": {},
   "outputs": [],
   "source": []
  }
 ],
 "metadata": {
  "kernelspec": {
   "display_name": "Python 3 (ipykernel)",
   "language": "python",
   "name": "python3"
  },
  "language_info": {
   "codemirror_mode": {
    "name": "ipython",
    "version": 3
   },
   "file_extension": ".py",
   "mimetype": "text/x-python",
   "name": "python",
   "nbconvert_exporter": "python",
   "pygments_lexer": "ipython3",
   "version": "3.11.5"
  }
 },
 "nbformat": 4,
 "nbformat_minor": 5
}
